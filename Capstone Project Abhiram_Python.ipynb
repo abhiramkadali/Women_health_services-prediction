{
 "cells": [
  {
   "cell_type": "code",
   "execution_count": 112,
   "metadata": {},
   "outputs": [],
   "source": [
    "import os\n",
    "import pandas as pd\n",
    "import numpy as np\n",
    "os.getcwd()\n",
    "os.chdir(\"C:/Users/akadali/Desktop/Python Scripts/Capstone Project Srinath\")\n",
    "df1 = pd.read_csv(\"train Data.csv\", low_memory = False)\n",
    "df1 = pd.DataFrame(df1)\n",
    "#print(df1.head()) #top 5 columns of dataset\n",
    "#print(df1.describe()) #description of dataset\n",
    "#print(df1.iloc[1])\n"
   ]
  },
  {
   "cell_type": "code",
   "execution_count": 113,
   "metadata": {},
   "outputs": [
    {
     "name": "stdout",
     "output_type": "stream",
     "text": [
      "No. of rows:\n",
      " 14644\n",
      "No. of Columns:\n",
      " 1379\n",
      "No. of cols in new dataset: 98\n",
      "No. of rows in new data: 14644\n"
     ]
    }
   ],
   "source": [
    "rows = df1.shape[0]\n",
    "cols = df1.shape[1]\n",
    "print(\"No. of rows:\\n\",rows)\n",
    "print(\"No. of Columns:\\n\", cols)\n",
    "min_rows = rows*0.8\n",
    "\n",
    "#min_cols = cols*0.1\n",
    "#print(\"Min num of rows:\\n\",min_rows)\n",
    "#lprint(\"Min num of Columns:\\n\", min_cols)\n",
    "#k = df1.isnull().sum()\n",
    "#ol_names = pd.DataFrame(k)\n",
    "\n",
    "#to remove columns with more than 80% missing values\n",
    "new_data = df1.dropna(axis = 'columns', thresh = min_rows)\n",
    "new_data = pd.DataFrame(new_data)\n",
    "print(\"No. of cols in new dataset:\", new_data.shape[1])\n",
    "\n",
    "#to remove rows with NAns\n",
    "#new_data1 = new_data.dropna(axis = 'rows',thresh = min_cols)\n",
    "#new_data1 = pd.DataFrame(new_data1)\n",
    "print(\"No. of rows in new data:\", new_data.shape[0])"
   ]
  },
  {
   "cell_type": "code",
   "execution_count": 117,
   "metadata": {
    "collapsed": true
   },
   "outputs": [
    {
     "name": "stdout",
     "output_type": "stream",
     "text": [
      "id         0\n",
      "release    0\n",
      "n_0002     0\n",
      "n_0005     0\n",
      "n_0019     0\n",
      "n_0038     0\n",
      "n_0047     0\n",
      "n_0050     0\n",
      "n_0052     0\n",
      "n_0061     0\n",
      "n_0067     0\n",
      "n_0075     0\n",
      "n_0078     0\n",
      "n_0083     0\n",
      "n_0091     0\n",
      "n_0108     0\n",
      "n_0109     0\n",
      "n_0110     0\n",
      "o_0120     0\n",
      "o_0144     0\n",
      "o_0153     0\n",
      "o_0176     0\n",
      "o_0201     0\n",
      "o_0230     0\n",
      "o_0264     0\n",
      "c_0368     0\n",
      "c_0401     0\n",
      "c_0426     0\n",
      "c_0444     0\n",
      "c_0456     0\n",
      "          ..\n",
      "c_0956     0\n",
      "c_0975     0\n",
      "c_0980     0\n",
      "c_0983     0\n",
      "c_0996     0\n",
      "c_1004     0\n",
      "c_1052     0\n",
      "c_1055     0\n",
      "c_1065     0\n",
      "c_1069     0\n",
      "c_1075     0\n",
      "c_1101     0\n",
      "c_1122     0\n",
      "c_1130     0\n",
      "c_1131     0\n",
      "c_1145     0\n",
      "c_1158     0\n",
      "c_1186     0\n",
      "c_1189     0\n",
      "c_1210     0\n",
      "c_1223     0\n",
      "c_1227     0\n",
      "c_1236     0\n",
      "c_1244     0\n",
      "c_1252     0\n",
      "c_1259     0\n",
      "c_1286     0\n",
      "c_1316     0\n",
      "c_1348     0\n",
      "c_1372     0\n",
      "Length: 98, dtype: int64\n"
     ]
    }
   ],
   "source": [
    "#Imputation with mean/mode\n",
    "for col in new_data.columns.values:\n",
    "    if 'n_' in col:\n",
    "        new_data[col].fillna(value = new_data[col].mean(), inplace = True)\n",
    "    elif 'o_' in col:\n",
    "        new_data[col].fillna(value = new_data[col].mode()[0], inplace = True)\n",
    "    elif 'c_' in col:\n",
    "        try:\n",
    "            new_data[col].fillna(value = new_data[col].mode()[0], inplace = True)\n",
    "        except:\n",
    "            print(col)\n",
    "    else : \n",
    "        pass\n",
    "\n",
    "#print(new_data.isnull().sum())"
   ]
  },
  {
   "cell_type": "code",
   "execution_count": 121,
   "metadata": {},
   "outputs": [
    {
     "data": {
      "text/plain": [
       "217"
      ]
     },
     "execution_count": 121,
     "metadata": {},
     "output_type": "execute_result"
    }
   ],
   "source": [
    "#creating dummies and droppping the first column\n",
    "\n",
    "new_data1 = pd.get_dummies(new_data, drop_first=True)\n",
    "new_data1 = pd.DataFrame(new_data1)\n",
    "new_data1.shape[1]"
   ]
  },
  {
   "cell_type": "code",
   "execution_count": 128,
   "metadata": {},
   "outputs": [
    {
     "data": {
      "text/plain": [
       "15"
      ]
     },
     "execution_count": 128,
     "metadata": {},
     "output_type": "execute_result"
    }
   ],
   "source": [
    "#importing data with target variables\n",
    "\n",
    "target_data = pd.read_csv(\"train labels.csv\")\n",
    "target_data = pd.DataFrame(target_data)\n",
    "target_data.shape[1]\n",
    "#list(new_data1)"
   ]
  },
  {
   "cell_type": "code",
   "execution_count": 131,
   "metadata": {},
   "outputs": [
    {
     "data": {
      "text/plain": [
       "231"
      ]
     },
     "execution_count": 131,
     "metadata": {},
     "output_type": "execute_result"
    }
   ],
   "source": [
    "#merging both input(new_data1) and target datasets\n",
    "\n",
    "merge_df = pd.merge(new_data1,target_data, on ='id', how = 'left')\n",
    "merge_df = pd.DataFrame(merge_df)\n",
    "merge_df.shape[1]"
   ]
  },
  {
   "cell_type": "code",
   "execution_count": null,
   "metadata": {},
   "outputs": [],
   "source": []
  }
 ],
 "metadata": {
  "kernelspec": {
   "display_name": "Python 3",
   "language": "python",
   "name": "python3"
  },
  "language_info": {
   "codemirror_mode": {
    "name": "ipython",
    "version": 3
   },
   "file_extension": ".py",
   "mimetype": "text/x-python",
   "name": "python",
   "nbconvert_exporter": "python",
   "pygments_lexer": "ipython3",
   "version": "3.6.5"
  }
 },
 "nbformat": 4,
 "nbformat_minor": 2
}
